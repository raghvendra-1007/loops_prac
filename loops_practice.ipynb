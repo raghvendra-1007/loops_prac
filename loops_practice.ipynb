{
 "cells": [
  {
   "cell_type": "markdown",
   "id": "762bdeea-f668-417c-a199-93ecd16be9d3",
   "metadata": {},
   "source": [
    "1. Write a Python program that takes an integer as input and prints the next 10 consecutive numbers using a for loop."
   ]
  },
  {
   "cell_type": "code",
   "execution_count": 25,
   "id": "6f887df1-8e5f-4661-b4ae-5a607799c49c",
   "metadata": {},
   "outputs": [
    {
     "name": "stdin",
     "output_type": "stream",
     "text": [
      "enter a digit 88\n"
     ]
    },
    {
     "name": "stdout",
     "output_type": "stream",
     "text": [
      "88\n",
      "89\n",
      "90\n",
      "91\n",
      "92\n",
      "93\n",
      "94\n",
      "95\n",
      "96\n",
      "97\n"
     ]
    }
   ],
   "source": [
    "i=int(input(\"enter a digit\"))\n",
    "      \n",
    "for i in range (i,i+10):\n",
    "    print(i)"
   ]
  },
  {
   "cell_type": "markdown",
   "id": "605f8b9a-60d8-4d51-a6a8-7c1564b1233f",
   "metadata": {},
   "source": [
    "2. Write a program to print even numbers from 1 to 50 using a while loop.\n"
   ]
  },
  {
   "cell_type": "code",
   "execution_count": 28,
   "id": "85aa757c-35a8-4742-ab0a-f38ef1a53f5b",
   "metadata": {},
   "outputs": [
    {
     "name": "stdout",
     "output_type": "stream",
     "text": [
      "2\n",
      "4\n",
      "6\n",
      "8\n",
      "10\n",
      "12\n",
      "14\n",
      "16\n",
      "18\n",
      "20\n",
      "22\n",
      "24\n",
      "26\n",
      "28\n",
      "30\n",
      "32\n",
      "34\n",
      "36\n",
      "38\n",
      "40\n",
      "42\n",
      "44\n",
      "46\n",
      "48\n",
      "50\n"
     ]
    }
   ],
   "source": [
    "for i in range(1,51):\n",
    "    if i%2==0:\n",
    "        print(i)"
   ]
  },
  {
   "cell_type": "markdown",
   "id": "b17b48ea-6c72-46cf-907c-f0a8ffbb60e4",
   "metadata": {},
   "source": [
    "3. Write a program to calculate the sum of the first 10 natural numbers using a loop.\n"
   ]
  },
  {
   "cell_type": "code",
   "execution_count": 40,
   "id": "5b71e423-43d0-4439-b67a-fd079a319c6a",
   "metadata": {},
   "outputs": [
    {
     "name": "stdout",
     "output_type": "stream",
     "text": [
      "the sum of first 10 natural number is 55\n"
     ]
    }
   ],
   "source": [
    "sum=0\n",
    "for i in range (1,11):\n",
    "    sum+=i\n",
    "print(f\"the sum of first 10 natural number is {sum}\")"
   ]
  },
  {
   "cell_type": "markdown",
   "id": "bb496f4a-6b7b-4cb4-9a1c-827e9c40100a",
   "metadata": {},
   "source": [
    "4.Write a program to print the multiplication table of a number entered by the user."
   ]
  },
  {
   "cell_type": "code",
   "execution_count": 12,
   "id": "ed53f1fe-d18a-4011-864f-dfd787d91de4",
   "metadata": {},
   "outputs": [
    {
     "name": "stdin",
     "output_type": "stream",
     "text": [
      "enter a no. whose table you want to print 4\n"
     ]
    },
    {
     "name": "stdout",
     "output_type": "stream",
     "text": [
      "4*1=4\n",
      "4*2=8\n",
      "4*3=12\n",
      "4*4=16\n",
      "4*5=20\n",
      "4*6=24\n",
      "4*7=28\n",
      "4*8=32\n",
      "4*9=36\n",
      "4*10=40\n"
     ]
    }
   ],
   "source": [
    "num=int(input(\"enter a no. whose table you want to print\"))\n",
    "for i in range(1,11):\n",
    "    print(f\"{num}*{i}={num*i}\")"
   ]
  },
  {
   "cell_type": "markdown",
   "id": "243ffb7b-27dc-4f5f-ae7a-2a8555ffaefc",
   "metadata": {},
   "source": [
    "5. Write a program to calculate the factorial of a number using a loop."
   ]
  },
  {
   "cell_type": "code",
   "execution_count": 6,
   "id": "97b290d9-87fc-4c32-a42c-06a9c6ac48bb",
   "metadata": {},
   "outputs": [
    {
     "name": "stdin",
     "output_type": "stream",
     "text": [
      "enter a valid number for factorial 5\n"
     ]
    },
    {
     "name": "stdout",
     "output_type": "stream",
     "text": [
      "the factorial of 5 is 120\n"
     ]
    }
   ],
   "source": [
    "num=int(input(\"enter a valid number for factorial\"))\n",
    "factorial=1\n",
    "for i in range(1,num+1):\n",
    "    factorial*=i\n",
    "print(f\"the factorial of {num} is {factorial}\")"
   ]
  },
  {
   "cell_type": "code",
   "execution_count": null,
   "id": "053c9ae1-d516-4ca1-b702-0331dcc92999",
   "metadata": {},
   "outputs": [],
   "source": []
  }
 ],
 "metadata": {
  "kernelspec": {
   "display_name": "Python 3 (ipykernel)",
   "language": "python",
   "name": "python3"
  },
  "language_info": {
   "codemirror_mode": {
    "name": "ipython",
    "version": 3
   },
   "file_extension": ".py",
   "mimetype": "text/x-python",
   "name": "python",
   "nbconvert_exporter": "python",
   "pygments_lexer": "ipython3",
   "version": "3.12.7"
  }
 },
 "nbformat": 4,
 "nbformat_minor": 5
}
